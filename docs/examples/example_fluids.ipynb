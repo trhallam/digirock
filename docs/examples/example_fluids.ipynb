{
 "cells": [
  {
   "cell_type": "code",
   "execution_count": 1,
   "id": "cd9c5783-627f-4d7e-b75e-3ee9500980a3",
   "metadata": {},
   "outputs": [],
   "source": [
    "%load_ext autoreload\n",
    "%autoreload 2"
   ]
  },
  {
   "cell_type": "markdown",
   "id": "a8016d38-09b4-44db-950f-e3f85fca1c75",
   "metadata": {
    "tags": []
   },
   "source": [
    "# Fluids\n",
    "\n",
    "All fluids have four basic methods:\n",
    " - `get_summary` which returns details of the fluid\n",
    " - `density` which returns the density of the fluid with minimum arguments of temperature and pressure.\n",
    " - `velocity` which returns the acoustic velocity of the fluid with minimum arguments of temperature and pressure.\n",
    " - `modulus` which returns the modulus of the fluid with minimum arguments of temperature and pressure.\n",
    " \n",
    "Additional keyword arguments to each method can be added as differentiators when fluids become more complex, for example when there are PVT zones."
   ]
  },
  {
   "cell_type": "markdown",
   "id": "fd861fd5-1264-4514-8274-f68421b9dfde",
   "metadata": {
    "tags": []
   },
   "source": [
    "## Water Types\n",
    "\n",
    "Classes for Water are based upon the Batzle and Wang 92 equations or with `PVTW` can be modified to use a table for the formation volume factor (FVF)."
   ]
  },
  {
   "cell_type": "code",
   "execution_count": 15,
   "id": "5572e2c6-7da5-4f6d-ae8c-3c39639b5baf",
   "metadata": {},
   "outputs": [],
   "source": [
    "import numpy as np\n",
    "# Presure in MPa\n",
    "p = 50\n",
    "pres = np.linspace(10, 100, 10)\n",
    "# Temperature in degC\n",
    "t = 110\n",
    "temp = np.linspace(80, 150, 10)"
   ]
  },
  {
   "cell_type": "code",
   "execution_count": 55,
   "id": "b0f15a4f-7771-4362-8a94-9e8e7fe2f951",
   "metadata": {},
   "outputs": [
    {
     "data": {
      "text/plain": [
       "{'class': digirock._fluid.Water, 'name': 'water', 'salinity': 0.0}"
      ]
     },
     "execution_count": 55,
     "metadata": {},
     "output_type": "execute_result"
    }
   ],
   "source": [
    "from digirock import Water, WaterPVTW\n",
    "\n",
    "# Initialisation of BW92 Water requires the salinity in PPM.\n",
    "wat = Water(name=\"water\", salinity=0)\n",
    "\n",
    "# check the summary - note the input salinity has been converted from PPM to ...\n",
    "wat.get_summary()"
   ]
  },
  {
   "cell_type": "markdown",
   "id": "4899d6c9-ae52-4337-92a6-481ea36db93a",
   "metadata": {},
   "source": [
    "Then let's check the elastic properties of this water with a mixture of constants and arrays or both."
   ]
  },
  {
   "cell_type": "code",
   "execution_count": 18,
   "id": "8443c773-6b9b-4212-b8ab-37afbfe787e1",
   "metadata": {},
   "outputs": [
    {
     "name": "stdout",
     "output_type": "stream",
     "text": [
      "Density single values (g/cc): 1.0422966\n",
      "Density 1 array values (g/cc): [1.02922392 1.03265799 1.03598146 1.03919433 1.0422966  1.04528827\n",
      " 1.04816934 1.05093981 1.05359968 1.05614895]\n",
      "Density 2 array values (g/cc): [1.04809014 1.04707017 1.04560913 1.04374679 1.04152148 1.03897004\n",
      " 1.03612787 1.03302888 1.02970551 1.02618875]\n",
      "Density 2 array values (g/cc): [[1.04809014 1.04707017 1.04560913 1.04374679 1.04152148]\n",
      " [1.03897004 1.03612787 1.03302888 1.02970551 1.02618875]] \n",
      "\n",
      "Velocity single values (m/s): 1.0422966\n",
      "Velocity 1 array values (m/s): [1.02922392 1.03265799 1.03598146 1.03919433 1.0422966  1.04528827\n",
      " 1.04816934 1.05093981 1.05359968 1.05614895]\n",
      "Velocity 2 array values (m/s): [1.04809014 1.04707017 1.04560913 1.04374679 1.04152148 1.03897004\n",
      " 1.03612787 1.03302888 1.02970551 1.02618875]\n",
      "Velocity 2 array values (m/s): [[1.04809014 1.04707017 1.04560913 1.04374679 1.04152148]\n",
      " [1.03897004 1.03612787 1.03302888 1.02970551 1.02618875]] \n",
      "\n",
      "Modulus single values (GPa): 1.0422966\n",
      "Modulus 1 array values (GPa): [1.02922392 1.03265799 1.03598146 1.03919433 1.0422966  1.04528827\n",
      " 1.04816934 1.05093981 1.05359968 1.05614895]\n",
      "Modulus 2 array values (GPa): [1.04809014 1.04707017 1.04560913 1.04374679 1.04152148 1.03897004\n",
      " 1.03612787 1.03302888 1.02970551 1.02618875]\n",
      "Modulus 2 array values (GPa): [[1.04809014 1.04707017 1.04560913 1.04374679 1.04152148]\n",
      " [1.03897004 1.03612787 1.03302888 1.02970551 1.02618875]]\n"
     ]
    }
   ],
   "source": [
    "# density\n",
    "print(\"Density single values (g/cc):\", wat.density(t, p))\n",
    "print(\"Density 1 array values (g/cc):\", wat.density(t, pres))\n",
    "\n",
    "# arrays can be used, but they must be the same shape\n",
    "print(\"Density 2 array values (g/cc):\", wat.density(temp, pres))\n",
    "print(\"Density 2 array values (g/cc):\", wat.density(temp.reshape(2, -1), pres.reshape(2, -1)), '\\n')\n",
    "\n",
    "# velocity\n",
    "print(\"Velocity single values (m/s):\", wat.density(t, p))\n",
    "print(\"Velocity 1 array values (m/s):\", wat.density(t, pres))\n",
    "\n",
    "# arrays can be used, but they must be the same shape\n",
    "print(\"Velocity 2 array values (m/s):\", wat.density(temp, pres))\n",
    "print(\"Velocity 2 array values (m/s):\", wat.density(temp.reshape(2, -1), pres.reshape(2, -1)), '\\n')\n",
    "\n",
    "# modulus\n",
    "print(\"Modulus single values (GPa):\", wat.density(t, p))\n",
    "print(\"Modulus 1 array values (GPa):\", wat.density(t, pres))\n",
    "\n",
    "# arrays can be used, but they must be the same shape\n",
    "print(\"Modulus 2 array values (GPa):\", wat.density(temp, pres))\n",
    "print(\"Modulus 2 array values (GPa):\", wat.density(temp.reshape(2, -1), pres.reshape(2, -1)))\n"
   ]
  },
  {
   "cell_type": "markdown",
   "id": "182a1cec-008d-4f81-aee4-99a16747f254",
   "metadata": {},
   "source": [
    "An inbuilt class exists for using PVTW tables from Eclipse include files. The density is then calculated using the Eclipse formula."
   ]
  },
  {
   "cell_type": "code",
   "execution_count": 51,
   "id": "498587cf-0d56-4c6b-a559-602461b834da",
   "metadata": {},
   "outputs": [
    {
     "name": "stdout",
     "output_type": "stream",
     "text": [
      "{'ref_pres': 26.85, 'bw': 1.03382, 'comp': 0.00031288999999999997, 'visc': 0.38509, 'cvisc': 0.0009780099999999999}\n",
      "Density single values (g/cc): 1.118629119644419\n",
      "Density array values (g/cc): [1.10471615 1.10817808 1.11165089 1.11513457 1.11862912 1.12213454\n",
      " 1.12565084 1.12917801 1.13271605 1.13626496] \n",
      "\n",
      "Density all array values (g/cc): [1.10471615 1.10817808 1.11189356 1.11545942 1.11903666 1.12213454\n",
      " 1.12622527 1.12917801 1.13345939 1.13626496] \n",
      "\n"
     ]
    },
    {
     "data": {
      "text/plain": [
       "{'class': digirock._fluid.WaterPVTW,\n",
       " 'name': 'wat_pvtw',\n",
       " 'salinity': 0.0,\n",
       " 'pvtkey': 'pvt',\n",
       " 'n_pvt': 12,\n",
       " 'ref_pres': 0.101325}"
      ]
     },
     "execution_count": 51,
     "metadata": {},
     "output_type": "execute_result"
    }
   ],
   "source": [
    "wat_pvtw = WaterPVTW(name=\"wat_pvtw\", salinity=0)\n",
    "\n",
    "# load the table directly from a text file\n",
    "wat_pvtw.load_pvtw(\"example_data/COMPLEX_PVT.inc\")\n",
    "\n",
    "# look at the first value of the loaded table - there is one value for each of the 13 PVT zones in this example\n",
    "print(wat_pvtw.pvt[0])\n",
    "\n",
    "# we need to tell the fluid which pvt table to use either with each call to a method\n",
    "print(\"Density single values (g/cc):\", wat_pvtw.density(t, p, pvt=1))\n",
    "\n",
    "# or we can set it permanently\n",
    "wat_pvtw.set_active_pvtn(1)\n",
    "print(\"Density array values (g/cc):\", wat_pvtw.density(temp, pres), '\\n')\n",
    "\n",
    "# pvt can also be an array\n",
    "print(\"Density all array values (g/cc):\", wat_pvtw.density(temp, pres, pvt=np.arange(10)), '\\n')\n",
    "\n",
    "# the wat pvwt summary has extra information\n",
    "wat_pvtw.get_summary()"
   ]
  },
  {
   "cell_type": "code",
   "execution_count": 112,
   "id": "045226d6-4c49-44ae-b3cd-889ee86e7f81",
   "metadata": {},
   "outputs": [],
   "source": [
    "from digirock import WaterECL"
   ]
  },
  {
   "cell_type": "code",
   "execution_count": 119,
   "id": "1383b55d-0f44-4fac-8f8e-1cab2af64582",
   "metadata": {},
   "outputs": [
    {
     "name": "stdout",
     "output_type": "stream",
     "text": [
      "Density single values (g/cc): 1.0892005687826782\n"
     ]
    }
   ],
   "source": [
    "print(\"Density single values (g/cc):\", a.density(t, p))"
   ]
  },
  {
   "cell_type": "code",
   "execution_count": 59,
   "id": "e61ae9c1-a402-495f-af4f-61dddd14797a",
   "metadata": {},
   "outputs": [
    {
     "data": {
      "text/plain": [
       "2.277957015872735"
      ]
     },
     "execution_count": 59,
     "metadata": {},
     "output_type": "execute_result"
    }
   ],
   "source": [
    "wat_pvtw.modulus(10, 1, pvt=0)"
   ]
  },
  {
   "cell_type": "code",
   "execution_count": 56,
   "id": "a7d74fbf-9317-49a9-a0ce-82eb20f15310",
   "metadata": {},
   "outputs": [
    {
     "data": {
      "text/plain": [
       "2.2062024358908476"
      ]
     },
     "execution_count": 56,
     "metadata": {},
     "output_type": "execute_result"
    }
   ],
   "source": [
    "wat.modulus(25, 1)"
   ]
  },
  {
   "cell_type": "code",
   "execution_count": null,
   "id": "ecdebd36-7400-429e-a000-a2402dc72951",
   "metadata": {},
   "outputs": [],
   "source": [
    "def load_pvtw(self, filepath, units: str = \"METRIC\"):\n",
    "    \"\"\"\n",
    "\n",
    "    Args:\n",
    "        filepath ([type]): [description]\n",
    "        units (str, optional): [description]. Defaults to 'METRIC'.\n",
    "\n",
    "    Raises:\n",
    "        ValueError: [description]\n",
    "    \"\"\"\n",
    "    _ut: dict = EclUnitScaler[units].value\n",
    "\n",
    "    rawpvt = read_eclipsekw_2dtable(filepath, \"PVTW\")\n",
    "    self.pvt = list()\n",
    "    for rawtab in rawpvt:\n",
    "        tab = dict()\n",
    "        for val, units, name in zip(\n",
    "            rawtab,\n",
    "            [\"pressure\", \"unitless\", \"ipressure\", \"unitless\", \"ipressure\"],\n",
    "            [\"ref_pres\", \"bw\", \"comp\", \"visc\", \"cvisc\"],\n",
    "        ):\n",
    "            tab[name] = _ut[units] * float(val)\n",
    "        self.pvt.append(tab)\n",
    "\n",
    "    try:\n",
    "        dens = read_eclipsekw_2dtable(filepath, \"DENSITY\")[0]\n",
    "        dens = [_ut[\"density\"] * float(d) for d in dens]\n",
    "    except KeyError:\n",
    "        grav = read_eclipsekw_2dtable(filepath, \"GRAVITY\")\n",
    "        raise NotImplementedError(\n",
    "            \"GRAVITY KW not yet implemented contact via Github for help.\"\n",
    "        )\n",
    "        # convert to density\n",
    "\n",
    "    self.density_asc = dens[1]"
   ]
  },
  {
   "cell_type": "code",
   "execution_count": 61,
   "id": "9ec62e79-2a98-4358-bd54-236c4ef35be3",
   "metadata": {},
   "outputs": [],
   "source": [
    "from scipy.optimize import root_scalar"
   ]
  },
  {
   "cell_type": "code",
   "execution_count": 75,
   "id": "3918d8db-2672-412a-9edc-6c54b9705b2f",
   "metadata": {},
   "outputs": [],
   "source": [
    "from digirock.fluids import bw92\n",
    "from digirock.utils.ecl import EclStandardConditions"
   ]
  },
  {
   "cell_type": "code",
   "execution_count": 83,
   "id": "e2ba1444-9a79-4b52-abd3-f7e659488f02",
   "metadata": {},
   "outputs": [
    {
     "data": {
      "text/plain": [
       "0.101325"
      ]
     },
     "execution_count": 83,
     "metadata": {},
     "output_type": "execute_result"
    }
   ],
   "source": [
    "EclStandardConditions.PRES.value"
   ]
  },
  {
   "cell_type": "code",
   "execution_count": 125,
   "id": "1956a815-44a0-4085-8ab3-39cd218f1522",
   "metadata": {},
   "outputs": [
    {
     "data": {
      "text/plain": [
       "1.1012673958726442"
      ]
     },
     "execution_count": 125,
     "metadata": {},
     "output_type": "execute_result"
    }
   ],
   "source": [
    "bw92.wat_density_brine(EclStandardConditions.TEMP.value, EclStandardConditions.PRES.value, 142366.6294070789*1E-6)"
   ]
  },
  {
   "cell_type": "code",
   "execution_count": 92,
   "id": "7eb0c06c-1720-4626-bb71-7ac796e67443",
   "metadata": {},
   "outputs": [
    {
     "data": {
      "text/plain": [
       "0.15115200437341486"
      ]
     },
     "execution_count": 92,
     "metadata": {},
     "output_type": "execute_result"
    }
   ],
   "source": [
    "bw92.wat_salinity_brine(EclStandardConditions.TEMP.value, EclStandardConditions.PRES.value, 1.108193)\n"
   ]
  },
  {
   "cell_type": "code",
   "execution_count": 100,
   "id": "784167bd-a643-4359-8088-a44a24627def",
   "metadata": {},
   "outputs": [],
   "source": [
    "from digirock._fluid import load_pvtw"
   ]
  },
  {
   "cell_type": "code",
   "execution_count": 133,
   "id": "672d63ba-4bf9-4629-892b-d24626167bc4",
   "metadata": {},
   "outputs": [
    {
     "data": {
      "text/plain": [
       "{'class': digirock._fluid.WaterECL,\n",
       " 'name': 'pvtw0',\n",
       " 'salinity': 0.1423666294070789,\n",
       " 'ref_pres': 26.85,\n",
       " 'bw': 1.03382,\n",
       " 'comp': 0.00031288999999999997,\n",
       " 'visc': 0.38509,\n",
       " 'cvisc': 0.0009780099999999999,\n",
       " 'density_asc': 1.1012673958726442}"
      ]
     },
     "execution_count": 133,
     "metadata": {},
     "output_type": "execute_result"
    }
   ],
   "source": [
    "a = load_pvtw(\"example_data/COMPLEX_PVT.inc\")[\"pvtw0\"]\n",
    "a.get_summary()"
   ]
  },
  {
   "cell_type": "code",
   "execution_count": 132,
   "id": "e579a4a4-9ba7-4520-992a-9f99fef9b31f",
   "metadata": {},
   "outputs": [
    {
     "data": {
      "text/plain": [
       "142366.6294070789"
      ]
     },
     "execution_count": 132,
     "metadata": {},
     "output_type": "execute_result"
    }
   ],
   "source": [
    "a.get_summary()[\"salinity\"] * 1E6"
   ]
  },
  {
   "cell_type": "code",
   "execution_count": 135,
   "id": "00f6eb48-272e-41cd-b067-ebed7021ddd1",
   "metadata": {},
   "outputs": [
    {
     "data": {
      "text/plain": [
       "1.1397910024070124"
      ]
     },
     "execution_count": 135,
     "metadata": {},
     "output_type": "execute_result"
    }
   ],
   "source": [
    "a.density(p, t)"
   ]
  },
  {
   "cell_type": "code",
   "execution_count": null,
   "id": "8e70e6e4-8f87-4503-bb6c-1c14c179091b",
   "metadata": {},
   "outputs": [],
   "source": []
  }
 ],
 "metadata": {
  "kernelspec": {
   "display_name": "Python [conda env:py39]",
   "language": "python",
   "name": "conda-env-py39-py"
  },
  "language_info": {
   "codemirror_mode": {
    "name": "ipython",
    "version": 3
   },
   "file_extension": ".py",
   "mimetype": "text/x-python",
   "name": "python",
   "nbconvert_exporter": "python",
   "pygments_lexer": "ipython3",
   "version": "3.9.7"
  }
 },
 "nbformat": 4,
 "nbformat_minor": 5
}
